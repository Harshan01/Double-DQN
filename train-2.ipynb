{
 "cells": [
  {
   "cell_type": "code",
   "execution_count": null,
   "metadata": {},
   "outputs": [],
   "source": [
    "import numpy as np\n",
    "import matplotlib.pyplot as plt\n",
    "%matplotlib inline\n",
    "\n",
    "from agent import Agent"
   ]
  },
  {
   "cell_type": "code",
   "execution_count": null,
   "metadata": {},
   "outputs": [],
   "source": [
    "game_name = 'VideoPinballNoFrameskip-v4' # 'Breakout-v0' # 'VideoPinball-v0'\n",
    "device = 'cuda:0'\n",
    "chkpnt_name = 'VideoPinballNoFrameskip-v4_10000'\n",
    "pretrained_name = 'VideoPinballNoFrameskip-v4_10000' # 'VideoPinballNoFrameskip-v4_10000'\n",
    "verbosity = 0\n",
    "\n",
    "agent = Agent(game_name, device, chkpnt_name, pretrained_name, verbosity)\n",
    "\n",
    "plt.imshow(agent.sanity_check_screen())\n",
    "plt.plot()"
   ]
  },
  {
   "cell_type": "code",
   "execution_count": null,
   "metadata": {
    "scrolled": true
   },
   "outputs": [],
   "source": [
    "if pretrained_name != None:\n",
    "    print('Eps decay overrided to continue training...')\n",
    "    agent.eps_decay = 1\n",
    "metrics = agent.train()"
   ]
  },
  {
   "cell_type": "code",
   "execution_count": null,
   "metadata": {},
   "outputs": [],
   "source": [
    "if 'metrics' not in locals():\n",
    "    import pickle\n",
    "    with open('models/VideoPinballNoFrameskip-v4_10000.metrics', 'rb') as metrics_file:\n",
    "        metrics = pickle.load(metrics_file)\n",
    "\n",
    "rewards = metrics['rewards']\n",
    "losses = metrics['losses']\n",
    "steps = metrics['steps']\n",
    "cum_steps = metrics['cum_steps']\n",
    "\n",
    "assert len(rewards) == len(losses) == len(steps)\n",
    "\n",
    "episodes_info = list(zip(rewards, losses, steps, cum_steps))\n",
    "for i, (reward, loss, step, cum_step) in enumerate(episodes_info):\n",
    "    print('Episode %d :' % i)\n",
    "    print('Step - ', step)\n",
    "    print('Cumulative steps - ', cum_step)\n",
    "    print('Reward - ', reward)\n",
    "    print('Loss - ', loss)\n",
    "    print('\\n')"
   ]
  },
  {
   "cell_type": "code",
   "execution_count": null,
   "metadata": {},
   "outputs": [],
   "source": [
    "plt.plot(range(len(losses)), losses)\n",
    "plt.show()"
   ]
  },
  {
   "cell_type": "code",
   "execution_count": null,
   "metadata": {},
   "outputs": [],
   "source": [
    "plt.plot(range(len(rewards)), rewards)\n",
    "plt.show()"
   ]
  },
  {
   "cell_type": "code",
   "execution_count": null,
   "metadata": {},
   "outputs": [],
   "source": [
    "rewards_correct = rewards\n",
    "\n",
    "plt.plot(range(len(rewards_correct)), rewards_correct)\n",
    "plt.show()"
   ]
  },
  {
   "cell_type": "code",
   "execution_count": null,
   "metadata": {},
   "outputs": [],
   "source": [
    "moving_avg_window = 100\n",
    "averaged_rewards = np.convolve(rewards_correct, np.ones(moving_avg_window), 'valid') / moving_avg_window\n",
    "\n",
    "plt.plot(range(len(averaged_rewards)), averaged_rewards)\n",
    "plt.show()"
   ]
  },
  {
   "cell_type": "code",
   "execution_count": null,
   "metadata": {
    "scrolled": true
   },
   "outputs": [],
   "source": [
    "eval_reward = 0\n",
    "for i in range(moving_avg_window):\n",
    "    _R = agent.evaluate()\n",
    "    print(i, _R)\n",
    "    eval_reward += _R\n",
    "eval_reward /= moving_avg_window\n",
    "\n",
    "print('\\nAvg. reward is ', eval_reward)"
   ]
  },
  {
   "cell_type": "code",
   "execution_count": null,
   "metadata": {},
   "outputs": [],
   "source": []
  }
 ],
 "metadata": {
  "kernelspec": {
   "display_name": "Python 3",
   "language": "python",
   "name": "python3"
  },
  "language_info": {
   "codemirror_mode": {
    "name": "ipython",
    "version": 3
   },
   "file_extension": ".py",
   "mimetype": "text/x-python",
   "name": "python",
   "nbconvert_exporter": "python",
   "pygments_lexer": "ipython3",
   "version": "3.7.5"
  }
 },
 "nbformat": 4,
 "nbformat_minor": 2
}
