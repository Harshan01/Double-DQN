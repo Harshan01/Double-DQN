{
 "cells": [
  {
   "cell_type": "code",
   "execution_count": 1,
   "metadata": {},
   "outputs": [],
   "source": [
    "from agent import Agent"
   ]
  },
  {
   "cell_type": "code",
   "execution_count": 2,
   "metadata": {},
   "outputs": [
    {
     "name": "stdout",
     "output_type": "stream",
     "text": [
      "Using device:  cuda:0\n"
     ]
    }
   ],
   "source": [
    "game_name = 'VideoPinball-v0'\n",
    "\n",
    "agent = Agent(game_name, 'cuda:0')"
   ]
  },
  {
   "cell_type": "code",
   "execution_count": 3,
   "metadata": {},
   "outputs": [
    {
     "name": "stdout",
     "output_type": "stream",
     "text": [
      "Episode  0\n",
      "Episode 0 - Loss = 1577.387451\n",
      "Episode  1\n",
      "Episode 1 - Loss = 2047.248169\n",
      "Episode  2\n",
      "Episode 2 - Loss = 2310.267578\n",
      "Episode  3\n",
      "Episode 3 - Loss = 11269.812500\n",
      "Episode  4\n",
      "Episode 4 - Loss = 9205.225586\n",
      "Episode  5\n",
      "Episode 5 - Loss = 7881.701660\n",
      "Episode  6\n",
      "Episode 6 - Loss = 6845.829102\n",
      "Episode  7\n",
      "Episode 7 - Loss = 6265.280762\n",
      "Episode  8\n",
      "Episode 8 - Loss = 5639.074707\n",
      "Episode  9\n",
      "Episode 9 - Loss = 5263.827148\n"
     ]
    },
    {
     "data": {
      "text/plain": [
       "[11521.0,\n",
       " 4707.0,\n",
       " 11110.0,\n",
       " 8508.0,\n",
       " 4715.0,\n",
       " 8114.0,\n",
       " 2709.0,\n",
       " 9613.0,\n",
       " 25033.0,\n",
       " 16424.0]"
      ]
     },
     "execution_count": 3,
     "metadata": {},
     "output_type": "execute_result"
    }
   ],
   "source": [
    "rewards, losses, steps = agent.train()"
   ]
  },
  {
   "cell_type": "code",
   "execution_count": null,
   "metadata": {},
   "outputs": [],
   "source": [
    "assert len(rewards) == len(losses) == len(steps)\n",
    "\n",
    "episodes_info = list(zip(rewards, losses, steps))\n",
    "for i, (reward, loss, step) in enumerate(episodes_info):\n",
    "    print('Episode %d :' % i)\n",
    "    print('Step - %d' % step)\n",
    "    print('Reward - %f' % reward)\n",
    "    print('Loss - %f\\n' % loss)"
   ]
  }
 ],
 "metadata": {
  "kernelspec": {
   "display_name": "Python 3",
   "language": "python",
   "name": "python3"
  },
  "language_info": {
   "codemirror_mode": {
    "name": "ipython",
    "version": 3
   },
   "file_extension": ".py",
   "mimetype": "text/x-python",
   "name": "python",
   "nbconvert_exporter": "python",
   "pygments_lexer": "ipython3",
   "version": "3.7.5"
  }
 },
 "nbformat": 4,
 "nbformat_minor": 2
}
