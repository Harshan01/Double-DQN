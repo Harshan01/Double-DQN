{
 "cells": [
  {
   "cell_type": "code",
   "execution_count": 1,
   "metadata": {},
   "outputs": [],
   "source": [
    "import numpy as np\n",
    "import matplotlib.pyplot as plt\n",
    "%matplotlib inline\n",
    "\n",
    "from agent import Agent"
   ]
  },
  {
   "cell_type": "code",
   "execution_count": 2,
   "metadata": {},
   "outputs": [
    {
     "name": "stdout",
     "output_type": "stream",
     "text": [
      "Using device:  cuda:0\n"
     ]
    },
    {
     "data": {
      "text/plain": [
       "[]"
      ]
     },
     "execution_count": 2,
     "metadata": {},
     "output_type": "execute_result"
    },
    {
     "data": {
      "image/png": "[encoded data removed]",
      "text/plain": [
       "<Figure size 432x288 with 1 Axes>"
      ]
     },
     "metadata": {
      "needs_background": "light"
     },
     "output_type": "display_data"
    }
   ],
   "source": [
    "game_name = 'Breakout-v0' # 'VideoPinball-v0'\n",
    "device = 'cuda:0'\n",
    "chkpnt_path = './models/breakout_50.pth'\n",
    "\n",
    "agent = Agent(game_name, device)\n",
    "\n",
    "plt.imshow(agent.sanity_check_screen())\n",
    "plt.plot()"
   ]
  },
  {
   "cell_type": "code",
   "execution_count": null,
   "metadata": {
    "scrolled": true
   },
   "outputs": [
    {
     "name": "stdout",
     "output_type": "stream",
     "text": [
      "Episode  0\n",
      "Episode  1\n",
      "Episode  2\n",
      "Episode  3\n",
      "Episode  4\n",
      "Episode  5\n",
      "Episode  6\n",
      "Episode  7\n",
      "Episode  8\n",
      "Episode  9\n",
      "Episode  10\n",
      "Episode  11\n",
      "Episode  12\n",
      "Episode  13\n",
      "Episode  14\n",
      "Episode  15\n",
      "Episode  16\n",
      "Episode  17\n",
      "Episode  18\n",
      "Episode  19\n",
      "Episode  20\n",
      "Episode  21\n",
      "Episode  22\n",
      "Episode  23\n",
      "Episode  24\n",
      "Episode  25\n",
      "Episode  26\n",
      "Episode  27\n",
      "Episode  28\n",
      "Episode  29\n",
      "Episode  30\n",
      "Episode  31\n",
      "Episode  32\n",
      "Episode  33\n",
      "Episode  34\n",
      "Episode  35\n",
      "Episode  36\n",
      "Episode  37\n",
      "Episode  38\n",
      "Episode  39\n",
      "Episode  40\n",
      "Episode  41\n",
      "Episode  42\n",
      "Episode  43\n",
      "Episode  44\n",
      "Episode  45\n",
      "Episode  46\n",
      "Episode  47\n",
      "Episode  48\n",
      "Episode  49\n",
      "Episode  50\n",
      "Episode  51\n",
      "Episode  52\n",
      "Episode  53\n",
      "Episode  54\n",
      "Episode  55\n",
      "Episode  56\n",
      "Episode  57\n",
      "Episode  58\n",
      "Episode  59\n",
      "Episode  60\n",
      "Episode  61\n",
      "Episode  62\n",
      "Episode  63\n",
      "Episode  64\n",
      "Episode  65\n",
      "Episode  66\n",
      "Episode  67\n",
      "Episode  68\n",
      "Episode  69\n",
      "Episode  70\n",
      "Episode  71\n",
      "Episode  72\n",
      "Episode  73\n",
      "Episode  74\n",
      "Episode  75\n",
      "Episode  76\n",
      "Episode  77\n",
      "Episode  78\n",
      "Episode  79\n",
      "Episode  80\n",
      "Episode  81\n",
      "Episode  82\n",
      "Episode  83\n",
      "Episode  84\n",
      "Episode  85\n",
      "Episode  86\n",
      "Episode  87\n",
      "Episode  88\n"
     ]
    }
   ],
   "source": [
    "metrics = agent.train()"
   ]
  },
  {
   "cell_type": "code",
   "execution_count": null,
   "metadata": {},
   "outputs": [],
   "source": [
    "rewards = metrics['rewards']\n",
    "losses = metrics['losses']\n",
    "steps = metrics['steps']\n",
    "cum_steps = metrics['cum_steps']\n",
    "\n",
    "assert len(rewards) == len(losses) == len(steps)\n",
    "\n",
    "episodes_info = list(zip(rewards, losses, steps, cum_steps))\n",
    "for i, (reward, loss, step, cum_step) in enumerate(episodes_info):\n",
    "    print('Episode %d :' % i)\n",
    "    print('Step - ', step)\n",
    "    print('Cumulative steps - ', cum_step)\n",
    "    print('Reward - ', reward)\n",
    "    print('Loss - ', loss)\n",
    "    print('\\n')"
   ]
  },
  {
   "cell_type": "code",
   "execution_count": null,
   "metadata": {},
   "outputs": [],
   "source": [
    "plt.plot(range(len(losses)), losses)\n",
    "plt.show()"
   ]
  },
  {
   "cell_type": "code",
   "execution_count": null,
   "metadata": {},
   "outputs": [],
   "source": [
    "plt.plot(range(len(rewards)), rewards)\n",
    "plt.show()"
   ]
  },
  {
   "cell_type": "code",
   "execution_count": null,
   "metadata": {},
   "outputs": [],
   "source": [
    "import pickle\n",
    "\n",
    "metrics_dump_name = 'metrics_dump.data'\n",
    "with open(metrics_dump_name, 'wb') as f:\n",
    "    pickle.dump(metrics, f)"
   ]
  },
  {
   "cell_type": "code",
   "execution_count": null,
   "metadata": {},
   "outputs": [],
   "source": []
  }
 ],
 "metadata": {
  "kernelspec": {
   "display_name": "Python 3",
   "language": "python",
   "name": "python3"
  },
  "language_info": {
   "codemirror_mode": {
    "name": "ipython",
    "version": 3
   },
   "file_extension": ".py",
   "mimetype": "text/x-python",
   "name": "python",
   "nbconvert_exporter": "python",
   "pygments_lexer": "ipython3",
   "version": "3.7.5"
  }
 },
 "nbformat": 4,
 "nbformat_minor": 2
}
